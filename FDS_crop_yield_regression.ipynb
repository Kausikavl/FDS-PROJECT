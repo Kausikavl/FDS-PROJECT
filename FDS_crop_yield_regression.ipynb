{
  "metadata": {
    "kernelspec": {
      "language": "python",
      "display_name": "Python 3",
      "name": "python3"
    },
    "language_info": {
      "name": "python",
      "version": "3.7.12",
      "mimetype": "text/x-python",
      "codemirror_mode": {
        "name": "ipython",
        "version": 3
      },
      "pygments_lexer": "ipython3",
      "nbconvert_exporter": "python",
      "file_extension": ".py"
    },
    "colab": {
      "provenance": []
    }
  },
  "nbformat_minor": 0,
  "nbformat": 4,
  "cells": [
    {
      "cell_type": "code",
      "source": [
        "# This Python 3 environment comes with many helpful analytics libraries installed\n",
        "# It is defined by the kaggle/python Docker image: https://github.com/kaggle/docker-python\n",
        "# For example, here's several helpful packages to load\n",
        "\n",
        "import numpy as np # linear algebra\n",
        "import pandas as pd # data processing, CSV file I/O (e.g. pd.read_csv)\n",
        "\n",
        "# Input data files are available in the read-only \"../input/\" directory\n",
        "# For example, running this (by clicking run or pressing Shift+Enter) will list all files under the input directory\n",
        "\n",
        "import os\n",
        "for dirname, _, filenames in os.walk('/kaggle/input'):\n",
        "    for filename in filenames:\n",
        "        print(os.path.join(dirname, filename))\n",
        "\n",
        "# You can write up to 20GB to the current directory (/kaggle/working/) that gets preserved as output when you create a version using \"Save & Run All\" \n",
        "# You can also write temporary files to /kaggle/temp/, but they won't be saved outside of the current session"
      ],
      "metadata": {
        "_uuid": "8f2839f25d086af736a60e9eeb907d3b93b6e0e5",
        "_cell_guid": "b1076dfc-b9ad-4769-8c92-a6c4dae69d19",
        "execution": {
          "iopub.status.busy": "2022-11-30T12:43:50.377199Z",
          "iopub.execute_input": "2022-11-30T12:43:50.378023Z",
          "iopub.status.idle": "2022-11-30T12:43:50.415403Z",
          "shell.execute_reply.started": "2022-11-30T12:43:50.377904Z",
          "shell.execute_reply": "2022-11-30T12:43:50.413989Z"
        },
        "trusted": true,
        "id": "xce4KXZh1VoA",
        "outputId": "9ba81101-363a-4441-e935-fb1dc2347c59"
      },
      "execution_count": null,
      "outputs": [
        {
          "name": "stdout",
          "text": "/kaggle/input/crop-yield-prediction-dataset/yield.csv\n/kaggle/input/crop-yield-prediction-dataset/temp.csv\n/kaggle/input/crop-yield-prediction-dataset/rainfall.csv\n/kaggle/input/crop-yield-prediction-dataset/pesticides.csv\n/kaggle/input/crop-yield-prediction-dataset/yield_df.csv\n",
          "output_type": "stream"
        }
      ]
    },
    {
      "cell_type": "code",
      "source": [
        "df = pd.read_csv('/kaggle/input/crop-yield-prediction-dataset/yield_df.csv')\n",
        "df.head()"
      ],
      "metadata": {
        "execution": {
          "iopub.status.busy": "2022-11-30T12:44:06.159912Z",
          "iopub.execute_input": "2022-11-30T12:44:06.160515Z",
          "iopub.status.idle": "2022-11-30T12:44:06.208835Z",
          "shell.execute_reply.started": "2022-11-30T12:44:06.160467Z",
          "shell.execute_reply": "2022-11-30T12:44:06.208013Z"
        },
        "trusted": true,
        "id": "5N_Dy_rD1VoE",
        "outputId": "f5d6f0e2-7770-4456-cc0a-491ce285b589"
      },
      "execution_count": null,
      "outputs": [
        {
          "execution_count": 3,
          "output_type": "execute_result",
          "data": {
            "text/plain": "   Unnamed: 0     Area         Item  Year  hg/ha_yield  \\\n0           0  Albania        Maize  1990        36613   \n1           1  Albania     Potatoes  1990        66667   \n2           2  Albania  Rice, paddy  1990        23333   \n3           3  Albania      Sorghum  1990        12500   \n4           4  Albania     Soybeans  1990         7000   \n\n   average_rain_fall_mm_per_year  pesticides_tonnes  avg_temp  \n0                         1485.0              121.0     16.37  \n1                         1485.0              121.0     16.37  \n2                         1485.0              121.0     16.37  \n3                         1485.0              121.0     16.37  \n4                         1485.0              121.0     16.37  ",
            "text/html": "<div>\n<style scoped>\n    .dataframe tbody tr th:only-of-type {\n        vertical-align: middle;\n    }\n\n    .dataframe tbody tr th {\n        vertical-align: top;\n    }\n\n    .dataframe thead th {\n        text-align: right;\n    }\n</style>\n<table border=\"1\" class=\"dataframe\">\n  <thead>\n    <tr style=\"text-align: right;\">\n      <th></th>\n      <th>Unnamed: 0</th>\n      <th>Area</th>\n      <th>Item</th>\n      <th>Year</th>\n      <th>hg/ha_yield</th>\n      <th>average_rain_fall_mm_per_year</th>\n      <th>pesticides_tonnes</th>\n      <th>avg_temp</th>\n    </tr>\n  </thead>\n  <tbody>\n    <tr>\n      <th>0</th>\n      <td>0</td>\n      <td>Albania</td>\n      <td>Maize</td>\n      <td>1990</td>\n      <td>36613</td>\n      <td>1485.0</td>\n      <td>121.0</td>\n      <td>16.37</td>\n    </tr>\n    <tr>\n      <th>1</th>\n      <td>1</td>\n      <td>Albania</td>\n      <td>Potatoes</td>\n      <td>1990</td>\n      <td>66667</td>\n      <td>1485.0</td>\n      <td>121.0</td>\n      <td>16.37</td>\n    </tr>\n    <tr>\n      <th>2</th>\n      <td>2</td>\n      <td>Albania</td>\n      <td>Rice, paddy</td>\n      <td>1990</td>\n      <td>23333</td>\n      <td>1485.0</td>\n      <td>121.0</td>\n      <td>16.37</td>\n    </tr>\n    <tr>\n      <th>3</th>\n      <td>3</td>\n      <td>Albania</td>\n      <td>Sorghum</td>\n      <td>1990</td>\n      <td>12500</td>\n      <td>1485.0</td>\n      <td>121.0</td>\n      <td>16.37</td>\n    </tr>\n    <tr>\n      <th>4</th>\n      <td>4</td>\n      <td>Albania</td>\n      <td>Soybeans</td>\n      <td>1990</td>\n      <td>7000</td>\n      <td>1485.0</td>\n      <td>121.0</td>\n      <td>16.37</td>\n    </tr>\n  </tbody>\n</table>\n</div>"
          },
          "metadata": {}
        }
      ]
    },
    {
      "cell_type": "code",
      "source": [
        "df.info()"
      ],
      "metadata": {
        "execution": {
          "iopub.status.busy": "2022-11-30T12:44:10.680696Z",
          "iopub.execute_input": "2022-11-30T12:44:10.681140Z",
          "iopub.status.idle": "2022-11-30T12:44:10.711880Z",
          "shell.execute_reply.started": "2022-11-30T12:44:10.681108Z",
          "shell.execute_reply": "2022-11-30T12:44:10.710839Z"
        },
        "trusted": true,
        "id": "g4L5Ye7a1VoF",
        "outputId": "8f8f20e0-536e-4ef3-fc03-17f83bfab929"
      },
      "execution_count": null,
      "outputs": [
        {
          "name": "stdout",
          "text": "<class 'pandas.core.frame.DataFrame'>\nRangeIndex: 28242 entries, 0 to 28241\nData columns (total 8 columns):\n #   Column                         Non-Null Count  Dtype  \n---  ------                         --------------  -----  \n 0   Unnamed: 0                     28242 non-null  int64  \n 1   Area                           28242 non-null  object \n 2   Item                           28242 non-null  object \n 3   Year                           28242 non-null  int64  \n 4   hg/ha_yield                    28242 non-null  int64  \n 5   average_rain_fall_mm_per_year  28242 non-null  float64\n 6   pesticides_tonnes              28242 non-null  float64\n 7   avg_temp                       28242 non-null  float64\ndtypes: float64(3), int64(3), object(2)\nmemory usage: 1.7+ MB\n",
          "output_type": "stream"
        }
      ]
    },
    {
      "cell_type": "code",
      "source": [
        "df.describe()"
      ],
      "metadata": {
        "execution": {
          "iopub.status.busy": "2022-11-30T12:44:15.162242Z",
          "iopub.execute_input": "2022-11-30T12:44:15.162798Z",
          "iopub.status.idle": "2022-11-30T12:44:15.206070Z",
          "shell.execute_reply.started": "2022-11-30T12:44:15.162754Z",
          "shell.execute_reply": "2022-11-30T12:44:15.204849Z"
        },
        "trusted": true,
        "id": "6LKc0yYl1VoF",
        "outputId": "64a8ec78-23ae-4a03-f76f-9a9e944cc04e"
      },
      "execution_count": null,
      "outputs": [
        {
          "execution_count": 5,
          "output_type": "execute_result",
          "data": {
            "text/plain": "         Unnamed: 0          Year    hg/ha_yield  \\\ncount  28242.000000  28242.000000   28242.000000   \nmean   14120.500000   2001.544296   77053.332094   \nstd     8152.907488      7.051905   84956.612897   \nmin        0.000000   1990.000000      50.000000   \n25%     7060.250000   1995.000000   19919.250000   \n50%    14120.500000   2001.000000   38295.000000   \n75%    21180.750000   2008.000000  104676.750000   \nmax    28241.000000   2013.000000  501412.000000   \n\n       average_rain_fall_mm_per_year  pesticides_tonnes      avg_temp  \ncount                    28242.00000       28242.000000  28242.000000  \nmean                      1149.05598       37076.909344     20.542627  \nstd                        709.81215       59958.784665      6.312051  \nmin                         51.00000           0.040000      1.300000  \n25%                        593.00000        1702.000000     16.702500  \n50%                       1083.00000       17529.440000     21.510000  \n75%                       1668.00000       48687.880000     26.000000  \nmax                       3240.00000      367778.000000     30.650000  ",
            "text/html": "<div>\n<style scoped>\n    .dataframe tbody tr th:only-of-type {\n        vertical-align: middle;\n    }\n\n    .dataframe tbody tr th {\n        vertical-align: top;\n    }\n\n    .dataframe thead th {\n        text-align: right;\n    }\n</style>\n<table border=\"1\" class=\"dataframe\">\n  <thead>\n    <tr style=\"text-align: right;\">\n      <th></th>\n      <th>Unnamed: 0</th>\n      <th>Year</th>\n      <th>hg/ha_yield</th>\n      <th>average_rain_fall_mm_per_year</th>\n      <th>pesticides_tonnes</th>\n      <th>avg_temp</th>\n    </tr>\n  </thead>\n  <tbody>\n    <tr>\n      <th>count</th>\n      <td>28242.000000</td>\n      <td>28242.000000</td>\n      <td>28242.000000</td>\n      <td>28242.00000</td>\n      <td>28242.000000</td>\n      <td>28242.000000</td>\n    </tr>\n    <tr>\n      <th>mean</th>\n      <td>14120.500000</td>\n      <td>2001.544296</td>\n      <td>77053.332094</td>\n      <td>1149.05598</td>\n      <td>37076.909344</td>\n      <td>20.542627</td>\n    </tr>\n    <tr>\n      <th>std</th>\n      <td>8152.907488</td>\n      <td>7.051905</td>\n      <td>84956.612897</td>\n      <td>709.81215</td>\n      <td>59958.784665</td>\n      <td>6.312051</td>\n    </tr>\n    <tr>\n      <th>min</th>\n      <td>0.000000</td>\n      <td>1990.000000</td>\n      <td>50.000000</td>\n      <td>51.00000</td>\n      <td>0.040000</td>\n      <td>1.300000</td>\n    </tr>\n    <tr>\n      <th>25%</th>\n      <td>7060.250000</td>\n      <td>1995.000000</td>\n      <td>19919.250000</td>\n      <td>593.00000</td>\n      <td>1702.000000</td>\n      <td>16.702500</td>\n    </tr>\n    <tr>\n      <th>50%</th>\n      <td>14120.500000</td>\n      <td>2001.000000</td>\n      <td>38295.000000</td>\n      <td>1083.00000</td>\n      <td>17529.440000</td>\n      <td>21.510000</td>\n    </tr>\n    <tr>\n      <th>75%</th>\n      <td>21180.750000</td>\n      <td>2008.000000</td>\n      <td>104676.750000</td>\n      <td>1668.00000</td>\n      <td>48687.880000</td>\n      <td>26.000000</td>\n    </tr>\n    <tr>\n      <th>max</th>\n      <td>28241.000000</td>\n      <td>2013.000000</td>\n      <td>501412.000000</td>\n      <td>3240.00000</td>\n      <td>367778.000000</td>\n      <td>30.650000</td>\n    </tr>\n  </tbody>\n</table>\n</div>"
          },
          "metadata": {}
        }
      ]
    },
    {
      "cell_type": "code",
      "source": [
        "df.drop(['Unnamed: 0'],axis=1,inplace=True)\n",
        "df.head()"
      ],
      "metadata": {
        "execution": {
          "iopub.status.busy": "2022-11-30T12:44:19.788708Z",
          "iopub.execute_input": "2022-11-30T12:44:19.789160Z",
          "iopub.status.idle": "2022-11-30T12:44:19.806065Z",
          "shell.execute_reply.started": "2022-11-30T12:44:19.789126Z",
          "shell.execute_reply": "2022-11-30T12:44:19.804778Z"
        },
        "trusted": true,
        "id": "rvAZSy6m1VoG",
        "outputId": "2ea6b67f-daf1-4e3d-ebd6-d40b933708df"
      },
      "execution_count": null,
      "outputs": [
        {
          "execution_count": 6,
          "output_type": "execute_result",
          "data": {
            "text/plain": "      Area         Item  Year  hg/ha_yield  average_rain_fall_mm_per_year  \\\n0  Albania        Maize  1990        36613                         1485.0   \n1  Albania     Potatoes  1990        66667                         1485.0   \n2  Albania  Rice, paddy  1990        23333                         1485.0   \n3  Albania      Sorghum  1990        12500                         1485.0   \n4  Albania     Soybeans  1990         7000                         1485.0   \n\n   pesticides_tonnes  avg_temp  \n0              121.0     16.37  \n1              121.0     16.37  \n2              121.0     16.37  \n3              121.0     16.37  \n4              121.0     16.37  ",
            "text/html": "<div>\n<style scoped>\n    .dataframe tbody tr th:only-of-type {\n        vertical-align: middle;\n    }\n\n    .dataframe tbody tr th {\n        vertical-align: top;\n    }\n\n    .dataframe thead th {\n        text-align: right;\n    }\n</style>\n<table border=\"1\" class=\"dataframe\">\n  <thead>\n    <tr style=\"text-align: right;\">\n      <th></th>\n      <th>Area</th>\n      <th>Item</th>\n      <th>Year</th>\n      <th>hg/ha_yield</th>\n      <th>average_rain_fall_mm_per_year</th>\n      <th>pesticides_tonnes</th>\n      <th>avg_temp</th>\n    </tr>\n  </thead>\n  <tbody>\n    <tr>\n      <th>0</th>\n      <td>Albania</td>\n      <td>Maize</td>\n      <td>1990</td>\n      <td>36613</td>\n      <td>1485.0</td>\n      <td>121.0</td>\n      <td>16.37</td>\n    </tr>\n    <tr>\n      <th>1</th>\n      <td>Albania</td>\n      <td>Potatoes</td>\n      <td>1990</td>\n      <td>66667</td>\n      <td>1485.0</td>\n      <td>121.0</td>\n      <td>16.37</td>\n    </tr>\n    <tr>\n      <th>2</th>\n      <td>Albania</td>\n      <td>Rice, paddy</td>\n      <td>1990</td>\n      <td>23333</td>\n      <td>1485.0</td>\n      <td>121.0</td>\n      <td>16.37</td>\n    </tr>\n    <tr>\n      <th>3</th>\n      <td>Albania</td>\n      <td>Sorghum</td>\n      <td>1990</td>\n      <td>12500</td>\n      <td>1485.0</td>\n      <td>121.0</td>\n      <td>16.37</td>\n    </tr>\n    <tr>\n      <th>4</th>\n      <td>Albania</td>\n      <td>Soybeans</td>\n      <td>1990</td>\n      <td>7000</td>\n      <td>1485.0</td>\n      <td>121.0</td>\n      <td>16.37</td>\n    </tr>\n  </tbody>\n</table>\n</div>"
          },
          "metadata": {}
        }
      ]
    },
    {
      "cell_type": "code",
      "source": [
        "import matplotlib.pyplot as plt\n",
        "df['Area'].value_counts()[:10].plot(kind='pie')\n",
        "plt.show()"
      ],
      "metadata": {
        "execution": {
          "iopub.status.busy": "2022-11-30T12:44:32.729722Z",
          "iopub.execute_input": "2022-11-30T12:44:32.730213Z",
          "iopub.status.idle": "2022-11-30T12:44:32.997825Z",
          "shell.execute_reply.started": "2022-11-30T12:44:32.730177Z",
          "shell.execute_reply": "2022-11-30T12:44:32.996157Z"
        },
        "trusted": true,
        "id": "Gg195Zii1VoH",
        "outputId": "3c92bea5-a464-4486-94a8-5b4e651802b0"
      },
      "execution_count": null,
      "outputs": [
        {
          "output_type": "display_data",
          "data": {
            "text/plain": "<Figure size 432x288 with 1 Axes>",
            "image/png": "[encoded data removed]"
          },
          "metadata": {}
        }
      ]
    },
    {
      "cell_type": "code",
      "source": [
        "df['Item'].value_counts()[:10].plot(kind='pie')\n",
        "plt.show()"
      ],
      "metadata": {
        "execution": {
          "iopub.status.busy": "2022-11-30T12:44:39.151047Z",
          "iopub.execute_input": "2022-11-30T12:44:39.151498Z",
          "iopub.status.idle": "2022-11-30T12:44:39.311584Z",
          "shell.execute_reply.started": "2022-11-30T12:44:39.151456Z",
          "shell.execute_reply": "2022-11-30T12:44:39.310534Z"
        },
        "trusted": true,
        "id": "V6xR7spu1VoH",
        "outputId": "987bd8fe-9bd4-4f04-f0b1-d27613493ae3"
      },
      "execution_count": null,
      "outputs": [
        {
          "output_type": "display_data",
          "data": {
            "text/plain": "<Figure size 432x288 with 1 Axes>",
            "image/png": "[encoded data removed]"
          },
          "metadata": {}
        }
      ]
    },
    {
      "cell_type": "code",
      "source": [
        "df['average_rain_fall_mm_per_year'].plot(kind='box')\n",
        "plt.show()"
      ],
      "metadata": {
        "execution": {
          "iopub.status.busy": "2022-11-30T12:44:43.685549Z",
          "iopub.execute_input": "2022-11-30T12:44:43.686061Z",
          "iopub.status.idle": "2022-11-30T12:44:43.879250Z",
          "shell.execute_reply.started": "2022-11-30T12:44:43.686021Z",
          "shell.execute_reply": "2022-11-30T12:44:43.877805Z"
        },
        "trusted": true,
        "id": "ESN1BdOv1VoI",
        "outputId": "ae86adb4-4f41-47c0-8ca2-740acbb849e5"
      },
      "execution_count": null,
      "outputs": [
        {
          "output_type": "display_data",
          "data": {
            "text/plain": "<Figure size 432x288 with 1 Axes>",
            "image/png": "[encoded data removed]"
          },
          "metadata": {
            "needs_background": "light"
          }
        }
      ]
    },
    {
      "cell_type": "code",
      "source": [
        "df['average_rain_fall_mm_per_year'].plot(kind='hist')\n",
        "plt.show()"
      ],
      "metadata": {
        "execution": {
          "iopub.status.busy": "2022-11-30T12:44:48.499806Z",
          "iopub.execute_input": "2022-11-30T12:44:48.500274Z",
          "iopub.status.idle": "2022-11-30T12:44:48.730916Z",
          "shell.execute_reply.started": "2022-11-30T12:44:48.500236Z",
          "shell.execute_reply": "2022-11-30T12:44:48.729904Z"
        },
        "trusted": true,
        "id": "R_u0So7k1VoI",
        "outputId": "bcbbd3d2-44a0-49d8-d8b6-e430d9d362a6"
      },
      "execution_count": null,
      "outputs": [
        {
          "output_type": "display_data",
          "data": {
            "text/plain": "<Figure size 432x288 with 1 Axes>",
            "image/png": "[encoded data removed]"
          },
          "metadata": {
            "needs_background": "light"
          }
        }
      ]
    },
    {
      "cell_type": "code",
      "source": [
        "df['pesticides_tonnes'].plot(kind='hist')\n",
        "plt.show()"
      ],
      "metadata": {
        "execution": {
          "iopub.status.busy": "2022-11-30T12:44:53.215794Z",
          "iopub.execute_input": "2022-11-30T12:44:53.216993Z",
          "iopub.status.idle": "2022-11-30T12:44:53.452051Z",
          "shell.execute_reply.started": "2022-11-30T12:44:53.216926Z",
          "shell.execute_reply": "2022-11-30T12:44:53.450933Z"
        },
        "trusted": true,
        "id": "IpAyY4wH1VoJ",
        "outputId": "37c4813a-25f1-4c11-cf46-9947d9659304"
      },
      "execution_count": null,
      "outputs": [
        {
          "output_type": "display_data",
          "data": {
            "text/plain": "<Figure size 432x288 with 1 Axes>",
            "image/png": "[encoded data removed]"
          },
          "metadata": {
            "needs_background": "light"
          }
        }
      ]
    },
    {
      "cell_type": "code",
      "source": [
        "df['pesticides_tonnes'].plot(kind='box')\n",
        "plt.show()"
      ],
      "metadata": {
        "execution": {
          "iopub.status.busy": "2022-11-30T12:45:00.341708Z",
          "iopub.execute_input": "2022-11-30T12:45:00.342225Z",
          "iopub.status.idle": "2022-11-30T12:45:00.654638Z",
          "shell.execute_reply.started": "2022-11-30T12:45:00.342183Z",
          "shell.execute_reply": "2022-11-30T12:45:00.653342Z"
        },
        "trusted": true,
        "id": "CLx8nJCi1VoK",
        "outputId": "07c9d34e-3004-471f-d0aa-28c57df48e48"
      },
      "execution_count": null,
      "outputs": [
        {
          "output_type": "display_data",
          "data": {
            "text/plain": "<Figure size 432x288 with 1 Axes>",
            "image/png": "[encoded data removed]"
          },
          "metadata": {
            "needs_background": "light"
          }
        }
      ]
    },
    {
      "cell_type": "code",
      "source": [
        "df['avg_temp'].plot(kind='hist')\n",
        "plt.show()"
      ],
      "metadata": {
        "execution": {
          "iopub.status.busy": "2022-11-30T12:45:04.737713Z",
          "iopub.execute_input": "2022-11-30T12:45:04.738181Z",
          "iopub.status.idle": "2022-11-30T12:45:04.967213Z",
          "shell.execute_reply.started": "2022-11-30T12:45:04.738143Z",
          "shell.execute_reply": "2022-11-30T12:45:04.966046Z"
        },
        "trusted": true,
        "id": "0g5kKFAe1VoL",
        "outputId": "721c6fab-68f9-4b69-da57-9a931b225e5f"
      },
      "execution_count": null,
      "outputs": [
        {
          "output_type": "display_data",
          "data": {
            "text/plain": "<Figure size 432x288 with 1 Axes>",
            "image/png": "[encoded data removed]"
          },
          "metadata": {
            "needs_background": "light"
          }
        }
      ]
    },
    {
      "cell_type": "code",
      "source": [
        "df['avg_temp'].plot(kind='box')\n",
        "plt.show()"
      ],
      "metadata": {
        "execution": {
          "iopub.status.busy": "2022-11-30T12:45:25.698758Z",
          "iopub.execute_input": "2022-11-30T12:45:25.699591Z",
          "iopub.status.idle": "2022-11-30T12:45:25.878591Z",
          "shell.execute_reply.started": "2022-11-30T12:45:25.699549Z",
          "shell.execute_reply": "2022-11-30T12:45:25.877480Z"
        },
        "trusted": true,
        "id": "ANU6Solh1VoL",
        "outputId": "62ea627e-34a2-4a0b-c7ed-6579f34ecb21"
      },
      "execution_count": null,
      "outputs": [
        {
          "output_type": "display_data",
          "data": {
            "text/plain": "<Figure size 432x288 with 1 Axes>",
            "image/png": "[encoded data removed]"
          },
          "metadata": {
            "needs_background": "light"
          }
        }
      ]
    },
    {
      "cell_type": "code",
      "source": [
        "import seaborn as sns\n",
        "sns.heatmap(df.corr())\n",
        "plt.show()"
      ],
      "metadata": {
        "execution": {
          "iopub.status.busy": "2022-11-30T12:45:29.996745Z",
          "iopub.execute_input": "2022-11-30T12:45:29.997256Z",
          "iopub.status.idle": "2022-11-30T12:45:30.839976Z",
          "shell.execute_reply.started": "2022-11-30T12:45:29.997214Z",
          "shell.execute_reply": "2022-11-30T12:45:30.839252Z"
        },
        "trusted": true,
        "id": "W2wFZne_1VoM",
        "outputId": "11a892ca-4500-4c9c-d623-1f84fa74590c"
      },
      "execution_count": null,
      "outputs": [
        {
          "output_type": "display_data",
          "data": {
            "text/plain": "<Figure size 432x288 with 2 Axes>",
            "image/png": "[encoded data removed]"
          },
          "metadata": {
            "needs_background": "light"
          }
        }
      ]
    },
    {
      "cell_type": "code",
      "source": [
        "df_ohe = pd.get_dummies(df, columns=['Area',\"Item\"])"
      ],
      "metadata": {
        "execution": {
          "iopub.status.busy": "2022-11-30T12:45:46.510019Z",
          "iopub.execute_input": "2022-11-30T12:45:46.510465Z",
          "iopub.status.idle": "2022-11-30T12:45:46.544313Z",
          "shell.execute_reply.started": "2022-11-30T12:45:46.510431Z",
          "shell.execute_reply": "2022-11-30T12:45:46.543202Z"
        },
        "trusted": true,
        "id": "cy2bfwWx1VoM"
      },
      "execution_count": null,
      "outputs": []
    },
    {
      "cell_type": "code",
      "source": [
        "df_ohe.head()"
      ],
      "metadata": {
        "execution": {
          "iopub.status.busy": "2022-11-30T12:45:50.088612Z",
          "iopub.execute_input": "2022-11-30T12:45:50.089097Z",
          "iopub.status.idle": "2022-11-30T12:45:50.114162Z",
          "shell.execute_reply.started": "2022-11-30T12:45:50.089050Z",
          "shell.execute_reply": "2022-11-30T12:45:50.112945Z"
        },
        "trusted": true,
        "id": "dzLwWJV91VoN",
        "outputId": "749fa24c-b36f-4912-a9f9-45d5a4dd2376"
      },
      "execution_count": null,
      "outputs": [
        {
          "execution_count": 19,
          "output_type": "execute_result",
          "data": {
            "text/plain": "   Year  hg/ha_yield  average_rain_fall_mm_per_year  pesticides_tonnes  \\\n0  1990        36613                         1485.0              121.0   \n1  1990        66667                         1485.0              121.0   \n2  1990        23333                         1485.0              121.0   \n3  1990        12500                         1485.0              121.0   \n4  1990         7000                         1485.0              121.0   \n\n   avg_temp  Area_Albania  Area_Algeria  Area_Angola  Area_Argentina  \\\n0     16.37             1             0            0               0   \n1     16.37             1             0            0               0   \n2     16.37             1             0            0               0   \n3     16.37             1             0            0               0   \n4     16.37             1             0            0               0   \n\n   Area_Armenia  ...  Item_Cassava  Item_Maize  Item_Plantains and others  \\\n0             0  ...             0           1                          0   \n1             0  ...             0           0                          0   \n2             0  ...             0           0                          0   \n3             0  ...             0           0                          0   \n4             0  ...             0           0                          0   \n\n   Item_Potatoes  Item_Rice, paddy  Item_Sorghum  Item_Soybeans  \\\n0              0                 0             0              0   \n1              1                 0             0              0   \n2              0                 1             0              0   \n3              0                 0             1              0   \n4              0                 0             0              1   \n\n   Item_Sweet potatoes  Item_Wheat  Item_Yams  \n0                    0           0          0  \n1                    0           0          0  \n2                    0           0          0  \n3                    0           0          0  \n4                    0           0          0  \n\n[5 rows x 116 columns]",
            "text/html": "<div>\n<style scoped>\n    .dataframe tbody tr th:only-of-type {\n        vertical-align: middle;\n    }\n\n    .dataframe tbody tr th {\n        vertical-align: top;\n    }\n\n    .dataframe thead th {\n        text-align: right;\n    }\n</style>\n<table border=\"1\" class=\"dataframe\">\n  <thead>\n    <tr style=\"text-align: right;\">\n      <th></th>\n      <th>Year</th>\n      <th>hg/ha_yield</th>\n      <th>average_rain_fall_mm_per_year</th>\n      <th>pesticides_tonnes</th>\n      <th>avg_temp</th>\n      <th>Area_Albania</th>\n      <th>Area_Algeria</th>\n      <th>Area_Angola</th>\n      <th>Area_Argentina</th>\n      <th>Area_Armenia</th>\n      <th>...</th>\n      <th>Item_Cassava</th>\n      <th>Item_Maize</th>\n      <th>Item_Plantains and others</th>\n      <th>Item_Potatoes</th>\n      <th>Item_Rice, paddy</th>\n      <th>Item_Sorghum</th>\n      <th>Item_Soybeans</th>\n      <th>Item_Sweet potatoes</th>\n      <th>Item_Wheat</th>\n      <th>Item_Yams</th>\n    </tr>\n  </thead>\n  <tbody>\n    <tr>\n      <th>0</th>\n      <td>1990</td>\n      <td>36613</td>\n      <td>1485.0</td>\n      <td>121.0</td>\n      <td>16.37</td>\n      <td>1</td>\n      <td>0</td>\n      <td>0</td>\n      <td>0</td>\n      <td>0</td>\n      <td>...</td>\n      <td>0</td>\n      <td>1</td>\n      <td>0</td>\n      <td>0</td>\n      <td>0</td>\n      <td>0</td>\n      <td>0</td>\n      <td>0</td>\n      <td>0</td>\n      <td>0</td>\n    </tr>\n    <tr>\n      <th>1</th>\n      <td>1990</td>\n      <td>66667</td>\n      <td>1485.0</td>\n      <td>121.0</td>\n      <td>16.37</td>\n      <td>1</td>\n      <td>0</td>\n      <td>0</td>\n      <td>0</td>\n      <td>0</td>\n      <td>...</td>\n      <td>0</td>\n      <td>0</td>\n      <td>0</td>\n      <td>1</td>\n      <td>0</td>\n      <td>0</td>\n      <td>0</td>\n      <td>0</td>\n      <td>0</td>\n      <td>0</td>\n    </tr>\n    <tr>\n      <th>2</th>\n      <td>1990</td>\n      <td>23333</td>\n      <td>1485.0</td>\n      <td>121.0</td>\n      <td>16.37</td>\n      <td>1</td>\n      <td>0</td>\n      <td>0</td>\n      <td>0</td>\n      <td>0</td>\n      <td>...</td>\n      <td>0</td>\n      <td>0</td>\n      <td>0</td>\n      <td>0</td>\n      <td>1</td>\n      <td>0</td>\n      <td>0</td>\n      <td>0</td>\n      <td>0</td>\n      <td>0</td>\n    </tr>\n    <tr>\n      <th>3</th>\n      <td>1990</td>\n      <td>12500</td>\n      <td>1485.0</td>\n      <td>121.0</td>\n      <td>16.37</td>\n      <td>1</td>\n      <td>0</td>\n      <td>0</td>\n      <td>0</td>\n      <td>0</td>\n      <td>...</td>\n      <td>0</td>\n      <td>0</td>\n      <td>0</td>\n      <td>0</td>\n      <td>0</td>\n      <td>1</td>\n      <td>0</td>\n      <td>0</td>\n      <td>0</td>\n      <td>0</td>\n    </tr>\n    <tr>\n      <th>4</th>\n      <td>1990</td>\n      <td>7000</td>\n      <td>1485.0</td>\n      <td>121.0</td>\n      <td>16.37</td>\n      <td>1</td>\n      <td>0</td>\n      <td>0</td>\n      <td>0</td>\n      <td>0</td>\n      <td>...</td>\n      <td>0</td>\n      <td>0</td>\n      <td>0</td>\n      <td>0</td>\n      <td>0</td>\n      <td>0</td>\n      <td>1</td>\n      <td>0</td>\n      <td>0</td>\n      <td>0</td>\n    </tr>\n  </tbody>\n</table>\n<p>5 rows × 116 columns</p>\n</div>"
          },
          "metadata": {}
        }
      ]
    },
    {
      "cell_type": "code",
      "source": [
        "from sklearn.preprocessing import StandardScaler\n",
        "sc = StandardScaler()\n",
        "cols = ['Year','average_rain_fall_mm_per_year','pesticides_tonnes','avg_temp']\n",
        "df_ohe[cols]= sc.fit_transform(df_ohe[cols])\n",
        "df_ohe.head()"
      ],
      "metadata": {
        "execution": {
          "iopub.status.busy": "2022-11-30T12:45:58.561387Z",
          "iopub.execute_input": "2022-11-30T12:45:58.562015Z",
          "iopub.status.idle": "2022-11-30T12:45:58.664528Z",
          "shell.execute_reply.started": "2022-11-30T12:45:58.561979Z",
          "shell.execute_reply": "2022-11-30T12:45:58.663624Z"
        },
        "trusted": true,
        "id": "BUJjlfn_1VoN",
        "outputId": "1a7a16a2-3927-4703-ab7b-5944ac68a183"
      },
      "execution_count": null,
      "outputs": [
        {
          "execution_count": 20,
          "output_type": "execute_result",
          "data": {
            "text/plain": "       Year  hg/ha_yield  average_rain_fall_mm_per_year  pesticides_tonnes  \\\n0 -1.637075        36613                       0.473294          -0.616366   \n1 -1.637075        66667                       0.473294          -0.616366   \n2 -1.637075        23333                       0.473294          -0.616366   \n3 -1.637075        12500                       0.473294          -0.616366   \n4 -1.637075         7000                       0.473294          -0.616366   \n\n   avg_temp  Area_Albania  Area_Algeria  Area_Angola  Area_Argentina  \\\n0 -0.661069             1             0            0               0   \n1 -0.661069             1             0            0               0   \n2 -0.661069             1             0            0               0   \n3 -0.661069             1             0            0               0   \n4 -0.661069             1             0            0               0   \n\n   Area_Armenia  ...  Item_Cassava  Item_Maize  Item_Plantains and others  \\\n0             0  ...             0           1                          0   \n1             0  ...             0           0                          0   \n2             0  ...             0           0                          0   \n3             0  ...             0           0                          0   \n4             0  ...             0           0                          0   \n\n   Item_Potatoes  Item_Rice, paddy  Item_Sorghum  Item_Soybeans  \\\n0              0                 0             0              0   \n1              1                 0             0              0   \n2              0                 1             0              0   \n3              0                 0             1              0   \n4              0                 0             0              1   \n\n   Item_Sweet potatoes  Item_Wheat  Item_Yams  \n0                    0           0          0  \n1                    0           0          0  \n2                    0           0          0  \n3                    0           0          0  \n4                    0           0          0  \n\n[5 rows x 116 columns]",
            "text/html": "<div>\n<style scoped>\n    .dataframe tbody tr th:only-of-type {\n        vertical-align: middle;\n    }\n\n    .dataframe tbody tr th {\n        vertical-align: top;\n    }\n\n    .dataframe thead th {\n        text-align: right;\n    }\n</style>\n<table border=\"1\" class=\"dataframe\">\n  <thead>\n    <tr style=\"text-align: right;\">\n      <th></th>\n      <th>Year</th>\n      <th>hg/ha_yield</th>\n      <th>average_rain_fall_mm_per_year</th>\n      <th>pesticides_tonnes</th>\n      <th>avg_temp</th>\n      <th>Area_Albania</th>\n      <th>Area_Algeria</th>\n      <th>Area_Angola</th>\n      <th>Area_Argentina</th>\n      <th>Area_Armenia</th>\n      <th>...</th>\n      <th>Item_Cassava</th>\n      <th>Item_Maize</th>\n      <th>Item_Plantains and others</th>\n      <th>Item_Potatoes</th>\n      <th>Item_Rice, paddy</th>\n      <th>Item_Sorghum</th>\n      <th>Item_Soybeans</th>\n      <th>Item_Sweet potatoes</th>\n      <th>Item_Wheat</th>\n      <th>Item_Yams</th>\n    </tr>\n  </thead>\n  <tbody>\n    <tr>\n      <th>0</th>\n      <td>-1.637075</td>\n      <td>36613</td>\n      <td>0.473294</td>\n      <td>-0.616366</td>\n      <td>-0.661069</td>\n      <td>1</td>\n      <td>0</td>\n      <td>0</td>\n      <td>0</td>\n      <td>0</td>\n      <td>...</td>\n      <td>0</td>\n      <td>1</td>\n      <td>0</td>\n      <td>0</td>\n      <td>0</td>\n      <td>0</td>\n      <td>0</td>\n      <td>0</td>\n      <td>0</td>\n      <td>0</td>\n    </tr>\n    <tr>\n      <th>1</th>\n      <td>-1.637075</td>\n      <td>66667</td>\n      <td>0.473294</td>\n      <td>-0.616366</td>\n      <td>-0.661069</td>\n      <td>1</td>\n      <td>0</td>\n      <td>0</td>\n      <td>0</td>\n      <td>0</td>\n      <td>...</td>\n      <td>0</td>\n      <td>0</td>\n      <td>0</td>\n      <td>1</td>\n      <td>0</td>\n      <td>0</td>\n      <td>0</td>\n      <td>0</td>\n      <td>0</td>\n      <td>0</td>\n    </tr>\n    <tr>\n      <th>2</th>\n      <td>-1.637075</td>\n      <td>23333</td>\n      <td>0.473294</td>\n      <td>-0.616366</td>\n      <td>-0.661069</td>\n      <td>1</td>\n      <td>0</td>\n      <td>0</td>\n      <td>0</td>\n      <td>0</td>\n      <td>...</td>\n      <td>0</td>\n      <td>0</td>\n      <td>0</td>\n      <td>0</td>\n      <td>1</td>\n      <td>0</td>\n      <td>0</td>\n      <td>0</td>\n      <td>0</td>\n      <td>0</td>\n    </tr>\n    <tr>\n      <th>3</th>\n      <td>-1.637075</td>\n      <td>12500</td>\n      <td>0.473294</td>\n      <td>-0.616366</td>\n      <td>-0.661069</td>\n      <td>1</td>\n      <td>0</td>\n      <td>0</td>\n      <td>0</td>\n      <td>0</td>\n      <td>...</td>\n      <td>0</td>\n      <td>0</td>\n      <td>0</td>\n      <td>0</td>\n      <td>0</td>\n      <td>1</td>\n      <td>0</td>\n      <td>0</td>\n      <td>0</td>\n      <td>0</td>\n    </tr>\n    <tr>\n      <th>4</th>\n      <td>-1.637075</td>\n      <td>7000</td>\n      <td>0.473294</td>\n      <td>-0.616366</td>\n      <td>-0.661069</td>\n      <td>1</td>\n      <td>0</td>\n      <td>0</td>\n      <td>0</td>\n      <td>0</td>\n      <td>...</td>\n      <td>0</td>\n      <td>0</td>\n      <td>0</td>\n      <td>0</td>\n      <td>0</td>\n      <td>0</td>\n      <td>1</td>\n      <td>0</td>\n      <td>0</td>\n      <td>0</td>\n    </tr>\n  </tbody>\n</table>\n<p>5 rows × 116 columns</p>\n</div>"
          },
          "metadata": {}
        }
      ]
    },
    {
      "cell_type": "code",
      "source": [
        "y = df_ohe['hg/ha_yield']\n",
        "X= df_ohe.drop('hg/ha_yield',axis=1)\n",
        "X.head()"
      ],
      "metadata": {
        "execution": {
          "iopub.status.busy": "2022-11-30T12:46:03.297437Z",
          "iopub.execute_input": "2022-11-30T12:46:03.297892Z",
          "iopub.status.idle": "2022-11-30T12:46:03.331242Z",
          "shell.execute_reply.started": "2022-11-30T12:46:03.297858Z",
          "shell.execute_reply": "2022-11-30T12:46:03.330043Z"
        },
        "trusted": true,
        "id": "_IhNSY-L1VoO",
        "outputId": "e279236a-52ca-4614-8dda-79521435073e"
      },
      "execution_count": null,
      "outputs": [
        {
          "execution_count": 21,
          "output_type": "execute_result",
          "data": {
            "text/plain": "       Year  average_rain_fall_mm_per_year  pesticides_tonnes  avg_temp  \\\n0 -1.637075                       0.473294          -0.616366 -0.661069   \n1 -1.637075                       0.473294          -0.616366 -0.661069   \n2 -1.637075                       0.473294          -0.616366 -0.661069   \n3 -1.637075                       0.473294          -0.616366 -0.661069   \n4 -1.637075                       0.473294          -0.616366 -0.661069   \n\n   Area_Albania  Area_Algeria  Area_Angola  Area_Argentina  Area_Armenia  \\\n0             1             0            0               0             0   \n1             1             0            0               0             0   \n2             1             0            0               0             0   \n3             1             0            0               0             0   \n4             1             0            0               0             0   \n\n   Area_Australia  ...  Item_Cassava  Item_Maize  Item_Plantains and others  \\\n0               0  ...             0           1                          0   \n1               0  ...             0           0                          0   \n2               0  ...             0           0                          0   \n3               0  ...             0           0                          0   \n4               0  ...             0           0                          0   \n\n   Item_Potatoes  Item_Rice, paddy  Item_Sorghum  Item_Soybeans  \\\n0              0                 0             0              0   \n1              1                 0             0              0   \n2              0                 1             0              0   \n3              0                 0             1              0   \n4              0                 0             0              1   \n\n   Item_Sweet potatoes  Item_Wheat  Item_Yams  \n0                    0           0          0  \n1                    0           0          0  \n2                    0           0          0  \n3                    0           0          0  \n4                    0           0          0  \n\n[5 rows x 115 columns]",
            "text/html": "<div>\n<style scoped>\n    .dataframe tbody tr th:only-of-type {\n        vertical-align: middle;\n    }\n\n    .dataframe tbody tr th {\n        vertical-align: top;\n    }\n\n    .dataframe thead th {\n        text-align: right;\n    }\n</style>\n<table border=\"1\" class=\"dataframe\">\n  <thead>\n    <tr style=\"text-align: right;\">\n      <th></th>\n      <th>Year</th>\n      <th>average_rain_fall_mm_per_year</th>\n      <th>pesticides_tonnes</th>\n      <th>avg_temp</th>\n      <th>Area_Albania</th>\n      <th>Area_Algeria</th>\n      <th>Area_Angola</th>\n      <th>Area_Argentina</th>\n      <th>Area_Armenia</th>\n      <th>Area_Australia</th>\n      <th>...</th>\n      <th>Item_Cassava</th>\n      <th>Item_Maize</th>\n      <th>Item_Plantains and others</th>\n      <th>Item_Potatoes</th>\n      <th>Item_Rice, paddy</th>\n      <th>Item_Sorghum</th>\n      <th>Item_Soybeans</th>\n      <th>Item_Sweet potatoes</th>\n      <th>Item_Wheat</th>\n      <th>Item_Yams</th>\n    </tr>\n  </thead>\n  <tbody>\n    <tr>\n      <th>0</th>\n      <td>-1.637075</td>\n      <td>0.473294</td>\n      <td>-0.616366</td>\n      <td>-0.661069</td>\n      <td>1</td>\n      <td>0</td>\n      <td>0</td>\n      <td>0</td>\n      <td>0</td>\n      <td>0</td>\n      <td>...</td>\n      <td>0</td>\n      <td>1</td>\n      <td>0</td>\n      <td>0</td>\n      <td>0</td>\n      <td>0</td>\n      <td>0</td>\n      <td>0</td>\n      <td>0</td>\n      <td>0</td>\n    </tr>\n    <tr>\n      <th>1</th>\n      <td>-1.637075</td>\n      <td>0.473294</td>\n      <td>-0.616366</td>\n      <td>-0.661069</td>\n      <td>1</td>\n      <td>0</td>\n      <td>0</td>\n      <td>0</td>\n      <td>0</td>\n      <td>0</td>\n      <td>...</td>\n      <td>0</td>\n      <td>0</td>\n      <td>0</td>\n      <td>1</td>\n      <td>0</td>\n      <td>0</td>\n      <td>0</td>\n      <td>0</td>\n      <td>0</td>\n      <td>0</td>\n    </tr>\n    <tr>\n      <th>2</th>\n      <td>-1.637075</td>\n      <td>0.473294</td>\n      <td>-0.616366</td>\n      <td>-0.661069</td>\n      <td>1</td>\n      <td>0</td>\n      <td>0</td>\n      <td>0</td>\n      <td>0</td>\n      <td>0</td>\n      <td>...</td>\n      <td>0</td>\n      <td>0</td>\n      <td>0</td>\n      <td>0</td>\n      <td>1</td>\n      <td>0</td>\n      <td>0</td>\n      <td>0</td>\n      <td>0</td>\n      <td>0</td>\n    </tr>\n    <tr>\n      <th>3</th>\n      <td>-1.637075</td>\n      <td>0.473294</td>\n      <td>-0.616366</td>\n      <td>-0.661069</td>\n      <td>1</td>\n      <td>0</td>\n      <td>0</td>\n      <td>0</td>\n      <td>0</td>\n      <td>0</td>\n      <td>...</td>\n      <td>0</td>\n      <td>0</td>\n      <td>0</td>\n      <td>0</td>\n      <td>0</td>\n      <td>1</td>\n      <td>0</td>\n      <td>0</td>\n      <td>0</td>\n      <td>0</td>\n    </tr>\n    <tr>\n      <th>4</th>\n      <td>-1.637075</td>\n      <td>0.473294</td>\n      <td>-0.616366</td>\n      <td>-0.661069</td>\n      <td>1</td>\n      <td>0</td>\n      <td>0</td>\n      <td>0</td>\n      <td>0</td>\n      <td>0</td>\n      <td>...</td>\n      <td>0</td>\n      <td>0</td>\n      <td>0</td>\n      <td>0</td>\n      <td>0</td>\n      <td>0</td>\n      <td>1</td>\n      <td>0</td>\n      <td>0</td>\n      <td>0</td>\n    </tr>\n  </tbody>\n</table>\n<p>5 rows × 115 columns</p>\n</div>"
          },
          "metadata": {}
        }
      ]
    },
    {
      "cell_type": "code",
      "source": [
        "from sklearn.model_selection import train_test_split\n",
        "x_train , x_test, y_train , y_test = train_test_split(X, y ,test_size=0.3, random_state=42)"
      ],
      "metadata": {
        "execution": {
          "iopub.status.busy": "2022-11-30T12:47:47.228623Z",
          "iopub.execute_input": "2022-11-30T12:47:47.229130Z",
          "iopub.status.idle": "2022-11-30T12:47:47.261037Z",
          "shell.execute_reply.started": "2022-11-30T12:47:47.229093Z",
          "shell.execute_reply": "2022-11-30T12:47:47.259971Z"
        },
        "trusted": true,
        "id": "HQSEk13J1VoP"
      },
      "execution_count": null,
      "outputs": []
    },
    {
      "cell_type": "code",
      "source": [
        "from sklearn.ensemble import RandomForestRegressor\n",
        "from sklearn.ensemble import GradientBoostingRegressor\n",
        "from sklearn.svm import SVR\n",
        "from sklearn.tree import DecisionTreeRegressor\n",
        "from sklearn.metrics import r2_score"
      ],
      "metadata": {
        "execution": {
          "iopub.status.busy": "2022-11-30T12:47:50.378196Z",
          "iopub.execute_input": "2022-11-30T12:47:50.378632Z",
          "iopub.status.idle": "2022-11-30T12:47:50.384854Z",
          "shell.execute_reply.started": "2022-11-30T12:47:50.378599Z",
          "shell.execute_reply": "2022-11-30T12:47:50.383735Z"
        },
        "trusted": true,
        "id": "ZGqU__MT1VoP"
      },
      "execution_count": null,
      "outputs": []
    },
    {
      "cell_type": "code",
      "source": [
        "dt = DecisionTreeRegressor()\n",
        "dt.fit(x_train , y_train)\n",
        "y_pred = dt.predict(x_test)\n",
        "score = r2_score(y_test,y_pred)\n",
        "score"
      ],
      "metadata": {
        "execution": {
          "iopub.status.busy": "2022-11-30T12:47:55.432997Z",
          "iopub.execute_input": "2022-11-30T12:47:55.433457Z",
          "iopub.status.idle": "2022-11-30T12:47:55.661873Z",
          "shell.execute_reply.started": "2022-11-30T12:47:55.433419Z",
          "shell.execute_reply": "2022-11-30T12:47:55.660767Z"
        },
        "trusted": true,
        "id": "BN56sKHj1VoQ",
        "outputId": "22817d0a-6fd4-445b-cca8-3bf1e1439f6e"
      },
      "execution_count": null,
      "outputs": [
        {
          "execution_count": 34,
          "output_type": "execute_result",
          "data": {
            "text/plain": "0.9781521528994254"
          },
          "metadata": {}
        }
      ]
    },
    {
      "cell_type": "code",
      "source": [
        "sv = SVR()\n",
        "sv.fit(x_train , y_train)\n",
        "y_pred = sv.predict(x_test)\n",
        "score = r2_score(y_test,y_pred)\n",
        "score"
      ],
      "metadata": {
        "execution": {
          "iopub.status.busy": "2022-11-30T12:48:03.428772Z",
          "iopub.execute_input": "2022-11-30T12:48:03.430095Z",
          "iopub.status.idle": "2022-11-30T12:49:22.290856Z",
          "shell.execute_reply.started": "2022-11-30T12:48:03.430049Z",
          "shell.execute_reply": "2022-11-30T12:49:22.289606Z"
        },
        "trusted": true,
        "id": "qKxv0sH61VoQ",
        "outputId": "90cfffa5-c079-4194-e112-0d3ff9c1813f"
      },
      "execution_count": null,
      "outputs": [
        {
          "execution_count": 35,
          "output_type": "execute_result",
          "data": {
            "text/plain": "-0.20210085081817764"
          },
          "metadata": {}
        }
      ]
    },
    {
      "cell_type": "code",
      "source": [
        "gbr=GradientBoostingRegressor(n_estimators=300, max_depth=5, random_state=0)\n",
        "gbr.fit(x_train , y_train)\n",
        "y_pred = gbr.predict(x_test)\n",
        "score = r2_score(y_test,y_pred)\n",
        "score"
      ],
      "metadata": {
        "execution": {
          "iopub.status.busy": "2022-11-30T12:50:33.906132Z",
          "iopub.execute_input": "2022-11-30T12:50:33.906814Z",
          "iopub.status.idle": "2022-11-30T12:50:52.152080Z",
          "shell.execute_reply.started": "2022-11-30T12:50:33.906768Z",
          "shell.execute_reply": "2022-11-30T12:50:52.150997Z"
        },
        "trusted": true,
        "id": "DvuKuPs51VoR",
        "outputId": "1ea6b425-5934-4a89-9a84-7bf011c31be2"
      },
      "execution_count": null,
      "outputs": [
        {
          "execution_count": 39,
          "output_type": "execute_result",
          "data": {
            "text/plain": "0.9635782905032044"
          },
          "metadata": {}
        }
      ]
    },
    {
      "cell_type": "code",
      "source": [
        "rf =RandomForestRegressor(n_estimators=300, max_depth=5, random_state=0)\n",
        "rf.fit(x_train , y_train)\n",
        "y_pred = rf.predict(x_test)\n",
        "score = r2_score(y_test,y_pred)\n",
        "score"
      ],
      "metadata": {
        "execution": {
          "iopub.status.busy": "2022-11-30T12:50:52.153688Z",
          "iopub.execute_input": "2022-11-30T12:50:52.154294Z",
          "iopub.status.idle": "2022-11-30T12:51:05.591942Z",
          "shell.execute_reply.started": "2022-11-30T12:50:52.154239Z",
          "shell.execute_reply": "2022-11-30T12:51:05.590742Z"
        },
        "trusted": true,
        "id": "cpDZbP9d1VoR",
        "outputId": "332cb55c-5bf1-4d3e-d00e-fcf208bdb861"
      },
      "execution_count": null,
      "outputs": [
        {
          "execution_count": 40,
          "output_type": "execute_result",
          "data": {
            "text/plain": "0.8170027476313629"
          },
          "metadata": {}
        }
      ]
    }
  ]
}